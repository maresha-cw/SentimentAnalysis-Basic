{
  "nbformat": 4,
  "nbformat_minor": 0,
  "metadata": {
    "accelerator": "GPU",
    "colab": {
      "name": "sentiment-analysis-RNN.ipynb",
      "provenance": [],
      "collapsed_sections": []
    },
    "kernelspec": {
      "display_name": "Python 3",
      "name": "python3"
    },
    "language_info": {
      "name": "python"
    }
  },
  "cells": [
    {
      "cell_type": "markdown",
      "metadata": {
        "id": "1wUzhZJfDoaw"
      },
      "source": [
        "**Installation**"
      ]
    },
    {
      "cell_type": "code",
      "metadata": {
        "colab": {
          "base_uri": "https://localhost:8080/"
        },
        "id": "Fz7zNNxB9YM0",
        "outputId": "29cec9d1-f949-4cd0-b4c9-76da79d5e637"
      },
      "source": [
        "!pip install -q tensorflow-recommenders\n",
        "!pip install -q --upgrade tensorflow-datasets\n",
        "!pip install --upgrade scikit-learn\n",
        "!pip install -q tfds-nightly tensorflow matplotlib"
      ],
      "execution_count": null,
      "outputs": [
        {
          "name": "stdout",
          "output_type": "stream",
          "text": [
            "\u001b[K     |████████████████████████████████| 85 kB 2.7 MB/s \n",
            "\u001b[K     |████████████████████████████████| 4.0 MB 4.9 MB/s \n",
            "\u001b[?25hRequirement already satisfied: scikit-learn in /usr/local/lib/python3.7/dist-packages (1.0.1)\n",
            "Requirement already satisfied: threadpoolctl>=2.0.0 in /usr/local/lib/python3.7/dist-packages (from scikit-learn) (3.0.0)\n",
            "Requirement already satisfied: scipy>=1.1.0 in /usr/local/lib/python3.7/dist-packages (from scikit-learn) (1.4.1)\n",
            "Requirement already satisfied: joblib>=0.11 in /usr/local/lib/python3.7/dist-packages (from scikit-learn) (1.1.0)\n",
            "Requirement already satisfied: numpy>=1.14.6 in /usr/local/lib/python3.7/dist-packages (from scikit-learn) (1.19.5)\n",
            "\u001b[K     |████████████████████████████████| 4.1 MB 5.0 MB/s \n",
            "\u001b[?25h"
          ]
        }
      ]
    },
    {
      "cell_type": "code",
      "metadata": {
        "colab": {
          "base_uri": "https://localhost:8080/"
        },
        "id": "FdL0t44ADtQm",
        "outputId": "73956873-c631-48e9-a442-63eccf3c5d14"
      },
      "source": [
        "from google.colab import drive\n",
        "drive.mount('/content/drive')"
      ],
      "execution_count": null,
      "outputs": [
        {
          "name": "stdout",
          "output_type": "stream",
          "text": [
            "Mounted at /content/drive\n"
          ]
        }
      ]
    },
    {
      "cell_type": "markdown",
      "metadata": {
        "id": "HdTFkCpkD8UB"
      },
      "source": [
        "**Import Libraries**"
      ]
    },
    {
      "cell_type": "code",
      "metadata": {
        "colab": {
          "base_uri": "https://localhost:8080/"
        },
        "id": "l6ovjv1t8wX7",
        "outputId": "153c928a-a446-4532-9082-e23bcc4b1caf"
      },
      "source": [
        "import pandas as pd\n",
        "import io\n",
        "import string\n",
        "import numpy as np\n",
        "import matplotlib.pyplot as plt\n",
        "import os\n",
        "import time\n",
        "import re\n",
        "import shutil\n",
        "import string\n",
        "import tensorflow as tf\n",
        "import tensorflow_datasets as tfds\n",
        "import sklearn\n",
        "\n",
        "from tensorflow import keras\n",
        "from tensorflow.keras import layers\n",
        "from tensorflow.keras.layers import Dense, Dropout\n",
        "from tensorflow.keras import optimizers\n",
        "from tensorflow.keras import losses\n",
        "from tensorflow.keras.preprocessing.text import Tokenizer\n",
        "from tensorflow.keras.preprocessing.sequence import pad_sequences\n",
        "\n",
        "gpus = tf.config.list_physical_devices(\"GPU\")\n",
        "if gpus:\n",
        "  print(len(gpus), \"Logical GPUs\")\n",
        "  print(\"Go to Runtime > Change runtime and select a GPU hardware accelerator.\")\n",
        "else:\n",
        "  print(\"No GPU was detected. This code can be very slow without a GPU.\")\n",
        "\n",
        "# to make this notebook's output stable across runs\n",
        "np.random.seed(20)\n",
        "tf.random.set_seed(20)"
      ],
      "execution_count": null,
      "outputs": [
        {
          "name": "stdout",
          "output_type": "stream",
          "text": [
            "No GPU was detected. This code can be very slow without a GPU.\n"
          ]
        }
      ]
    },
    {
      "cell_type": "code",
      "metadata": {
        "id": "JUN5t2cFFyHP"
      },
      "source": [
        "# Import other common libraries\n",
        "from sklearn.model_selection import train_test_split\n",
        "from sklearn.preprocessing import LabelEncoder\n",
        "from sklearn.metrics import confusion_matrix\n",
        "from sklearn.metrics import accuracy_score \n",
        "import itertools\n",
        "import re\n",
        "import spacy"
      ],
      "execution_count": null,
      "outputs": []
    },
    {
      "cell_type": "code",
      "metadata": {
        "id": "kOnuOvHYPL9W"
      },
      "source": [
        "import matplotlib.pyplot as plt\n",
        "\n",
        "def plot_graphs(history, metric):\n",
        "  plt.plot(history.history[metric])\n",
        "  plt.plot(history.history['val_'+metric], '')\n",
        "  plt.xlabel(\"Epochs\")\n",
        "  plt.ylabel(metric)\n",
        "  plt.legend([metric, 'val_'+metric])\n"
      ],
      "execution_count": null,
      "outputs": []
    },
    {
      "cell_type": "markdown",
      "metadata": {
        "id": "EjV_hWdBF1KB"
      },
      "source": [
        "**Import Dataset** - Train and Test"
      ]
    },
    {
      "cell_type": "code",
      "metadata": {
        "id": "2p1pM-C5-pli"
      },
      "source": [
        "trainfile = \"/content/drive/MyDrive/testGC/training.1600000.processed.noemoticon.csv\"\n",
        "testfile = \"/content/drive/MyDrive/testGC/vaccination_all_tweets.csv\"\n",
        "train_columns = ['polarity','id','date','query_string','twitter_user','tweet']\n",
        "test_columns = ['id','user_name','user_location','user_description','user_created','user_followers','user_friends','user_favourites','user_verified','date','text','hashtags','source','retweets','favorites','is_retweet']"
      ],
      "execution_count": null,
      "outputs": []
    },
    {
      "cell_type": "code",
      "metadata": {
        "colab": {
          "base_uri": "https://localhost:8080/",
          "height": 206
        },
        "id": "7TaQAv9uDiGn",
        "outputId": "f168970c-9586-4f2e-b509-d5347af5b855"
      },
      "source": [
        "# Import Train data set\n",
        "df_train = pd.read_csv(trainfile,\n",
        "                 header=None, \n",
        "                 names=train_columns, \n",
        "                 encoding='latin-1')\n",
        "df_train.head()"
      ],
      "execution_count": null,
      "outputs": [
        {
          "data": {
            "text/html": [
              "<div>\n",
              "<style scoped>\n",
              "    .dataframe tbody tr th:only-of-type {\n",
              "        vertical-align: middle;\n",
              "    }\n",
              "\n",
              "    .dataframe tbody tr th {\n",
              "        vertical-align: top;\n",
              "    }\n",
              "\n",
              "    .dataframe thead th {\n",
              "        text-align: right;\n",
              "    }\n",
              "</style>\n",
              "<table border=\"1\" class=\"dataframe\">\n",
              "  <thead>\n",
              "    <tr style=\"text-align: right;\">\n",
              "      <th></th>\n",
              "      <th>polarity</th>\n",
              "      <th>id</th>\n",
              "      <th>date</th>\n",
              "      <th>query_string</th>\n",
              "      <th>twitter_user</th>\n",
              "      <th>tweet</th>\n",
              "    </tr>\n",
              "  </thead>\n",
              "  <tbody>\n",
              "    <tr>\n",
              "      <th>0</th>\n",
              "      <td>0</td>\n",
              "      <td>1467810369</td>\n",
              "      <td>Mon Apr 06 22:19:45 PDT 2009</td>\n",
              "      <td>NO_QUERY</td>\n",
              "      <td>_TheSpecialOne_</td>\n",
              "      <td>@switchfoot http://twitpic.com/2y1zl - Awww, t...</td>\n",
              "    </tr>\n",
              "    <tr>\n",
              "      <th>1</th>\n",
              "      <td>0</td>\n",
              "      <td>1467810672</td>\n",
              "      <td>Mon Apr 06 22:19:49 PDT 2009</td>\n",
              "      <td>NO_QUERY</td>\n",
              "      <td>scotthamilton</td>\n",
              "      <td>is upset that he can't update his Facebook by ...</td>\n",
              "    </tr>\n",
              "    <tr>\n",
              "      <th>2</th>\n",
              "      <td>0</td>\n",
              "      <td>1467810917</td>\n",
              "      <td>Mon Apr 06 22:19:53 PDT 2009</td>\n",
              "      <td>NO_QUERY</td>\n",
              "      <td>mattycus</td>\n",
              "      <td>@Kenichan I dived many times for the ball. Man...</td>\n",
              "    </tr>\n",
              "    <tr>\n",
              "      <th>3</th>\n",
              "      <td>0</td>\n",
              "      <td>1467811184</td>\n",
              "      <td>Mon Apr 06 22:19:57 PDT 2009</td>\n",
              "      <td>NO_QUERY</td>\n",
              "      <td>ElleCTF</td>\n",
              "      <td>my whole body feels itchy and like its on fire</td>\n",
              "    </tr>\n",
              "    <tr>\n",
              "      <th>4</th>\n",
              "      <td>0</td>\n",
              "      <td>1467811193</td>\n",
              "      <td>Mon Apr 06 22:19:57 PDT 2009</td>\n",
              "      <td>NO_QUERY</td>\n",
              "      <td>Karoli</td>\n",
              "      <td>@nationwideclass no, it's not behaving at all....</td>\n",
              "    </tr>\n",
              "  </tbody>\n",
              "</table>\n",
              "</div>"
            ],
            "text/plain": [
              "   polarity  ...                                              tweet\n",
              "0         0  ...  @switchfoot http://twitpic.com/2y1zl - Awww, t...\n",
              "1         0  ...  is upset that he can't update his Facebook by ...\n",
              "2         0  ...  @Kenichan I dived many times for the ball. Man...\n",
              "3         0  ...    my whole body feels itchy and like its on fire \n",
              "4         0  ...  @nationwideclass no, it's not behaving at all....\n",
              "\n",
              "[5 rows x 6 columns]"
            ]
          },
          "execution_count": 7,
          "metadata": {},
          "output_type": "execute_result"
        }
      ]
    },
    {
      "cell_type": "code",
      "metadata": {
        "colab": {
          "base_uri": "https://localhost:8080/",
          "height": 521
        },
        "id": "xExcd4Xk_XC9",
        "outputId": "657f83f8-6471-444f-a269-fb3aa36d3a90"
      },
      "source": [
        "# Import Test data set\n",
        "df_test = pd.read_csv(testfile,\n",
        "                 encoding='latin-1',\n",
        "                 low_memory=False)\n",
        "df_test.head()"
      ],
      "execution_count": null,
      "outputs": [
        {
          "data": {
            "text/html": [
              "<div>\n",
              "<style scoped>\n",
              "    .dataframe tbody tr th:only-of-type {\n",
              "        vertical-align: middle;\n",
              "    }\n",
              "\n",
              "    .dataframe tbody tr th {\n",
              "        vertical-align: top;\n",
              "    }\n",
              "\n",
              "    .dataframe thead th {\n",
              "        text-align: right;\n",
              "    }\n",
              "</style>\n",
              "<table border=\"1\" class=\"dataframe\">\n",
              "  <thead>\n",
              "    <tr style=\"text-align: right;\">\n",
              "      <th></th>\n",
              "      <th>id</th>\n",
              "      <th>user_name</th>\n",
              "      <th>user_location</th>\n",
              "      <th>user_description</th>\n",
              "      <th>user_created</th>\n",
              "      <th>user_followers</th>\n",
              "      <th>user_friends</th>\n",
              "      <th>user_favourites</th>\n",
              "      <th>user_verified</th>\n",
              "      <th>date</th>\n",
              "      <th>text</th>\n",
              "      <th>hashtags</th>\n",
              "      <th>source</th>\n",
              "      <th>retweets</th>\n",
              "      <th>favorites</th>\n",
              "      <th>is_retweet</th>\n",
              "    </tr>\n",
              "  </thead>\n",
              "  <tbody>\n",
              "    <tr>\n",
              "      <th>0</th>\n",
              "      <td>1340539111971516416</td>\n",
              "      <td>Rachel Roh</td>\n",
              "      <td>La Crescenta-Montrose, CA</td>\n",
              "      <td>Aggregator of Asian American news; scanning di...</td>\n",
              "      <td>2009-04-08 17:52:46</td>\n",
              "      <td>405</td>\n",
              "      <td>1692</td>\n",
              "      <td>3247</td>\n",
              "      <td>False</td>\n",
              "      <td>2020-12-20 06:06:44</td>\n",
              "      <td>Same folks said daikon paste could treat a cyt...</td>\n",
              "      <td>['PfizerBioNTech']</td>\n",
              "      <td>Twitter for Android</td>\n",
              "      <td>0</td>\n",
              "      <td>0</td>\n",
              "      <td>False</td>\n",
              "    </tr>\n",
              "    <tr>\n",
              "      <th>1</th>\n",
              "      <td>1338158543359250433</td>\n",
              "      <td>Albert Fong</td>\n",
              "      <td>San Francisco, CA</td>\n",
              "      <td>Marketing dude, tech geek, heavy metal &amp; '80s ...</td>\n",
              "      <td>2009-09-21 15:27:30</td>\n",
              "      <td>834</td>\n",
              "      <td>666</td>\n",
              "      <td>178</td>\n",
              "      <td>False</td>\n",
              "      <td>2020-12-13 16:27:13</td>\n",
              "      <td>While the world has been on the wrong side of ...</td>\n",
              "      <td>NaN</td>\n",
              "      <td>Twitter Web App</td>\n",
              "      <td>1</td>\n",
              "      <td>1</td>\n",
              "      <td>False</td>\n",
              "    </tr>\n",
              "    <tr>\n",
              "      <th>2</th>\n",
              "      <td>1337858199140118533</td>\n",
              "      <td>elið±ð¹ðªðºð</td>\n",
              "      <td>Your Bed</td>\n",
              "      <td>heil, hydra ðâº</td>\n",
              "      <td>2020-06-25 23:30:28</td>\n",
              "      <td>10</td>\n",
              "      <td>88</td>\n",
              "      <td>155</td>\n",
              "      <td>False</td>\n",
              "      <td>2020-12-12 20:33:45</td>\n",
              "      <td>#coronavirus #SputnikV #AstraZeneca #PfizerBio...</td>\n",
              "      <td>['coronavirus', 'SputnikV', 'AstraZeneca', 'Pf...</td>\n",
              "      <td>Twitter for Android</td>\n",
              "      <td>0</td>\n",
              "      <td>0</td>\n",
              "      <td>False</td>\n",
              "    </tr>\n",
              "    <tr>\n",
              "      <th>3</th>\n",
              "      <td>1337855739918835717</td>\n",
              "      <td>Charles Adler</td>\n",
              "      <td>Vancouver, BC - Canada</td>\n",
              "      <td>Hosting \"CharlesAdlerTonight\" Global News Radi...</td>\n",
              "      <td>2008-09-10 11:28:53</td>\n",
              "      <td>49165</td>\n",
              "      <td>3933</td>\n",
              "      <td>21853</td>\n",
              "      <td>True</td>\n",
              "      <td>2020-12-12 20:23:59</td>\n",
              "      <td>Facts are immutable, Senator, even when you're...</td>\n",
              "      <td>NaN</td>\n",
              "      <td>Twitter Web App</td>\n",
              "      <td>446</td>\n",
              "      <td>2129</td>\n",
              "      <td>False</td>\n",
              "    </tr>\n",
              "    <tr>\n",
              "      <th>4</th>\n",
              "      <td>1337854064604966912</td>\n",
              "      <td>Citizen News Channel</td>\n",
              "      <td>NaN</td>\n",
              "      <td>Citizen News Channel bringing you an alternati...</td>\n",
              "      <td>2020-04-23 17:58:42</td>\n",
              "      <td>152</td>\n",
              "      <td>580</td>\n",
              "      <td>1473</td>\n",
              "      <td>False</td>\n",
              "      <td>2020-12-12 20:17:19</td>\n",
              "      <td>Explain to me again why we need a vaccine @Bor...</td>\n",
              "      <td>['whereareallthesickpeople', 'PfizerBioNTech']</td>\n",
              "      <td>Twitter for iPhone</td>\n",
              "      <td>0</td>\n",
              "      <td>0</td>\n",
              "      <td>False</td>\n",
              "    </tr>\n",
              "  </tbody>\n",
              "</table>\n",
              "</div>"
            ],
            "text/plain": [
              "                    id                user_name  ... favorites is_retweet\n",
              "0  1340539111971516416               Rachel Roh  ...         0      False\n",
              "1  1338158543359250433              Albert Fong  ...         1      False\n",
              "2  1337858199140118533  elið±ð¹ðªðºð  ...         0      False\n",
              "3  1337855739918835717            Charles Adler  ...      2129      False\n",
              "4  1337854064604966912     Citizen News Channel  ...         0      False\n",
              "\n",
              "[5 rows x 16 columns]"
            ]
          },
          "execution_count": 8,
          "metadata": {},
          "output_type": "execute_result"
        }
      ]
    },
    {
      "cell_type": "code",
      "metadata": {
        "colab": {
          "base_uri": "https://localhost:8080/",
          "height": 206
        },
        "id": "MyzGiHxqHhr5",
        "outputId": "25e50f2b-f8e4-43bf-c144-2c924308860a"
      },
      "source": [
        "#train - choose only 3 columns\n",
        "df_train = df_train[['date','tweet','polarity']]\n",
        "df_train = df_train.dropna(subset=['tweet'])\n",
        "df_train.head()"
      ],
      "execution_count": null,
      "outputs": [
        {
          "data": {
            "text/html": [
              "<div>\n",
              "<style scoped>\n",
              "    .dataframe tbody tr th:only-of-type {\n",
              "        vertical-align: middle;\n",
              "    }\n",
              "\n",
              "    .dataframe tbody tr th {\n",
              "        vertical-align: top;\n",
              "    }\n",
              "\n",
              "    .dataframe thead th {\n",
              "        text-align: right;\n",
              "    }\n",
              "</style>\n",
              "<table border=\"1\" class=\"dataframe\">\n",
              "  <thead>\n",
              "    <tr style=\"text-align: right;\">\n",
              "      <th></th>\n",
              "      <th>date</th>\n",
              "      <th>tweet</th>\n",
              "      <th>polarity</th>\n",
              "    </tr>\n",
              "  </thead>\n",
              "  <tbody>\n",
              "    <tr>\n",
              "      <th>0</th>\n",
              "      <td>Mon Apr 06 22:19:45 PDT 2009</td>\n",
              "      <td>@switchfoot http://twitpic.com/2y1zl - Awww, t...</td>\n",
              "      <td>0</td>\n",
              "    </tr>\n",
              "    <tr>\n",
              "      <th>1</th>\n",
              "      <td>Mon Apr 06 22:19:49 PDT 2009</td>\n",
              "      <td>is upset that he can't update his Facebook by ...</td>\n",
              "      <td>0</td>\n",
              "    </tr>\n",
              "    <tr>\n",
              "      <th>2</th>\n",
              "      <td>Mon Apr 06 22:19:53 PDT 2009</td>\n",
              "      <td>@Kenichan I dived many times for the ball. Man...</td>\n",
              "      <td>0</td>\n",
              "    </tr>\n",
              "    <tr>\n",
              "      <th>3</th>\n",
              "      <td>Mon Apr 06 22:19:57 PDT 2009</td>\n",
              "      <td>my whole body feels itchy and like its on fire</td>\n",
              "      <td>0</td>\n",
              "    </tr>\n",
              "    <tr>\n",
              "      <th>4</th>\n",
              "      <td>Mon Apr 06 22:19:57 PDT 2009</td>\n",
              "      <td>@nationwideclass no, it's not behaving at all....</td>\n",
              "      <td>0</td>\n",
              "    </tr>\n",
              "  </tbody>\n",
              "</table>\n",
              "</div>"
            ],
            "text/plain": [
              "                           date  ... polarity\n",
              "0  Mon Apr 06 22:19:45 PDT 2009  ...        0\n",
              "1  Mon Apr 06 22:19:49 PDT 2009  ...        0\n",
              "2  Mon Apr 06 22:19:53 PDT 2009  ...        0\n",
              "3  Mon Apr 06 22:19:57 PDT 2009  ...        0\n",
              "4  Mon Apr 06 22:19:57 PDT 2009  ...        0\n",
              "\n",
              "[5 rows x 3 columns]"
            ]
          },
          "execution_count": 9,
          "metadata": {},
          "output_type": "execute_result"
        }
      ]
    },
    {
      "cell_type": "code",
      "metadata": {
        "id": "0Cmo93wFII1v"
      },
      "source": [
        "#test - choose only 2 columns and 1 cols for sentiment\n",
        "df_test = df_test[['date','text']]\n",
        "df_test = df_test.dropna(subset=['text'])\n",
        "df_test.loc[:,'polarity'] = np.nan"
      ],
      "execution_count": null,
      "outputs": []
    },
    {
      "cell_type": "code",
      "metadata": {
        "colab": {
          "base_uri": "https://localhost:8080/",
          "height": 206
        },
        "id": "IloizN-aNlRr",
        "outputId": "dec4065b-72e1-4147-b1a9-ec1244539e7c"
      },
      "source": [
        "df_test = df_test.rename({'text':'tweet'}, axis=1)\n",
        "df_test.head()"
      ],
      "execution_count": null,
      "outputs": [
        {
          "data": {
            "text/html": [
              "<div>\n",
              "<style scoped>\n",
              "    .dataframe tbody tr th:only-of-type {\n",
              "        vertical-align: middle;\n",
              "    }\n",
              "\n",
              "    .dataframe tbody tr th {\n",
              "        vertical-align: top;\n",
              "    }\n",
              "\n",
              "    .dataframe thead th {\n",
              "        text-align: right;\n",
              "    }\n",
              "</style>\n",
              "<table border=\"1\" class=\"dataframe\">\n",
              "  <thead>\n",
              "    <tr style=\"text-align: right;\">\n",
              "      <th></th>\n",
              "      <th>date</th>\n",
              "      <th>tweet</th>\n",
              "      <th>polarity</th>\n",
              "    </tr>\n",
              "  </thead>\n",
              "  <tbody>\n",
              "    <tr>\n",
              "      <th>0</th>\n",
              "      <td>2020-12-20 06:06:44</td>\n",
              "      <td>Same folks said daikon paste could treat a cyt...</td>\n",
              "      <td>NaN</td>\n",
              "    </tr>\n",
              "    <tr>\n",
              "      <th>1</th>\n",
              "      <td>2020-12-13 16:27:13</td>\n",
              "      <td>While the world has been on the wrong side of ...</td>\n",
              "      <td>NaN</td>\n",
              "    </tr>\n",
              "    <tr>\n",
              "      <th>2</th>\n",
              "      <td>2020-12-12 20:33:45</td>\n",
              "      <td>#coronavirus #SputnikV #AstraZeneca #PfizerBio...</td>\n",
              "      <td>NaN</td>\n",
              "    </tr>\n",
              "    <tr>\n",
              "      <th>3</th>\n",
              "      <td>2020-12-12 20:23:59</td>\n",
              "      <td>Facts are immutable, Senator, even when you're...</td>\n",
              "      <td>NaN</td>\n",
              "    </tr>\n",
              "    <tr>\n",
              "      <th>4</th>\n",
              "      <td>2020-12-12 20:17:19</td>\n",
              "      <td>Explain to me again why we need a vaccine @Bor...</td>\n",
              "      <td>NaN</td>\n",
              "    </tr>\n",
              "  </tbody>\n",
              "</table>\n",
              "</div>"
            ],
            "text/plain": [
              "                  date  ... polarity\n",
              "0  2020-12-20 06:06:44  ...      NaN\n",
              "1  2020-12-13 16:27:13  ...      NaN\n",
              "2  2020-12-12 20:33:45  ...      NaN\n",
              "3  2020-12-12 20:23:59  ...      NaN\n",
              "4  2020-12-12 20:17:19  ...      NaN\n",
              "\n",
              "[5 rows x 3 columns]"
            ]
          },
          "execution_count": 11,
          "metadata": {},
          "output_type": "execute_result"
        }
      ]
    },
    {
      "cell_type": "markdown",
      "metadata": {
        "id": "k87A4r_6N1TY"
      },
      "source": [
        "**Split Dataset**"
      ]
    },
    {
      "cell_type": "code",
      "metadata": {
        "colab": {
          "base_uri": "https://localhost:8080/"
        },
        "id": "Td58cxkHMyDb",
        "outputId": "63f7ae61-6144-4f0b-d50f-bca313afcc9d"
      },
      "source": [
        "train_df, val_df = np.split(df_train.sample(frac=1), [int(0.9*len(df_train))])\n",
        "test_df = df_test\n",
        "print(len(train_df), 'training examples')\n",
        "print(len(val_df), 'validation examples')\n",
        "print(len(test_df), 'test examples')"
      ],
      "execution_count": null,
      "outputs": [
        {
          "name": "stdout",
          "output_type": "stream",
          "text": [
            "1440000 training examples\n",
            "160000 validation examples\n",
            "202456 test examples\n"
          ]
        }
      ]
    },
    {
      "cell_type": "code",
      "metadata": {
        "id": "7R5b7PrPOswT"
      },
      "source": [
        "#train_df_sample = train_df.sample(200000,random_state=10)\n",
        "train_df_sample = train_df\n",
        "X_train = train_df_sample.drop(\"polarity\", axis=1) # drop labels for training set\n",
        "y_train = train_df_sample[\"polarity\"].copy()"
      ],
      "execution_count": null,
      "outputs": []
    },
    {
      "cell_type": "code",
      "metadata": {
        "id": "3T9dYlKyPMsA"
      },
      "source": [
        "#val_df_sample = val_df.sample(16000,random_state=10)\n",
        "val_df_sample = val_df\n",
        "X_val = val_df_sample.drop(\"polarity\", axis=1) # drop labels for validation set\n",
        "y_val = val_df_sample[\"polarity\"].copy()"
      ],
      "execution_count": null,
      "outputs": []
    },
    {
      "cell_type": "code",
      "metadata": {
        "id": "zMOktFpNPJZw"
      },
      "source": [
        "#test_df_sample = test_df.sample(10000,random_state=10)\n",
        "test_df_sample = test_df\n",
        "X_test = test_df_sample.drop(\"polarity\", axis=1) # drop labels for test set\n",
        "y_test = test_df_sample[\"polarity\"].copy()"
      ],
      "execution_count": null,
      "outputs": []
    },
    {
      "cell_type": "code",
      "metadata": {
        "colab": {
          "base_uri": "https://localhost:8080/"
        },
        "id": "BOuhUeQHPUQM",
        "outputId": "1385fdad-794d-4803-83df-b1208db6f55e"
      },
      "source": [
        "print(\"X_train: \" + str(X_train.shape) + str(type(X_train)))\n",
        "print(\"y_train: \"+ str(y_train.shape)+ str(type(y_train)))\n",
        "print(\"X_val: \" + str(X_val.shape) + str(type(X_val)))\n",
        "print(\"y_val: \"+ str(y_val.shape)+ str(type(y_val)))\n",
        "print(\"X_test: \" + str(X_test.shape) + str(type(X_test)))\n",
        "print(\"y_test: \"+ str(y_test.shape)+ str(type(y_test)))"
      ],
      "execution_count": null,
      "outputs": [
        {
          "name": "stdout",
          "output_type": "stream",
          "text": [
            "X_train: (1440000, 2)<class 'pandas.core.frame.DataFrame'>\n",
            "y_train: (1440000,)<class 'pandas.core.series.Series'>\n",
            "X_val: (160000, 2)<class 'pandas.core.frame.DataFrame'>\n",
            "y_val: (160000,)<class 'pandas.core.series.Series'>\n",
            "X_test: (202456, 2)<class 'pandas.core.frame.DataFrame'>\n",
            "y_test: (202456,)<class 'pandas.core.series.Series'>\n"
          ]
        }
      ]
    },
    {
      "cell_type": "markdown",
      "metadata": {
        "id": "uaMpmthJPrdo"
      },
      "source": [
        "**Preprocessing**"
      ]
    },
    {
      "cell_type": "code",
      "metadata": {
        "id": "2eIDXqehPqXl"
      },
      "source": [
        "# Punctuation Removal\n",
        "punctuation_removal = string.punctuation\n",
        "def remove_punctuation(text):\n",
        "    \"\"\"custom function to remove the punctuation\"\"\"\n",
        "    # remove https links\n",
        "    clean_tweet = re.sub(r'http\\S+', '', text)\n",
        "    # remove username\n",
        "    clean_tweet = re.sub('@[^\\s]+','', clean_tweet)\n",
        "    # convert text to lowercase\n",
        "    clean_tweet = clean_tweet.lower()\n",
        "    # remove numbers\n",
        "    clean_tweet = re.sub('\\d', ' ', clean_tweet)\n",
        "    # remove whitespaces\n",
        "    clean_tweet = ' '.join(clean_tweet.split())\n",
        "\n",
        "    return clean_tweet.translate(str.maketrans('', '', punctuation_removal))"
      ],
      "execution_count": null,
      "outputs": []
    },
    {
      "cell_type": "code",
      "metadata": {
        "id": "bdks6T8KRgPo"
      },
      "source": [
        "X_train[\"tweet\"] = X_train[\"tweet\"].apply(lambda text: remove_punctuation(text))\n",
        "\n",
        "X_val[\"tweet\"] = X_val[\"tweet\"].apply(lambda text: remove_punctuation(text))\n",
        "\n",
        "X_test[\"tweet\"] = X_test[\"tweet\"].apply(lambda text: remove_punctuation(text))"
      ],
      "execution_count": null,
      "outputs": []
    },
    {
      "cell_type": "code",
      "metadata": {
        "id": "dbqePzE1SFhU"
      },
      "source": [
        "#remove stopwords\n",
        "#!pip install nltk\n",
        "#import nltk\n",
        "\n",
        "#from nltk.corpus import stopwords\n",
        "#nltk.download('stopwords')\n",
        "\n",
        "#stop_words = set(stopwords.words('english'))\n",
        "\n",
        "#X_train[\"tweet\"] = X_train[\"tweet\"].apply(lambda x: ' '.join([word for word in x.split() if word not in (stop_words)]))\n",
        "#X_val[\"tweet\"] = X_val[\"tweet\"].apply(lambda x: ' '.join([word for word in x.split() if word not in (stop_words)]))\n",
        "#X_test[\"tweet\"] = X_test[\"tweet\"].apply(lambda x: ' '.join([word for word in x.split() if word not in (stop_words)]))"
      ],
      "execution_count": null,
      "outputs": []
    },
    {
      "cell_type": "code",
      "metadata": {
        "id": "TX-s84ztxJw1"
      },
      "source": [
        "vocab_size = 50000\n",
        "embedding_dim = 16\n",
        "max_length = 100\n",
        "trunc_type='post'\n",
        "padding_type='post'\n",
        "oov_tok = \"<OOV>\""
      ],
      "execution_count": null,
      "outputs": []
    },
    {
      "cell_type": "code",
      "metadata": {
        "colab": {
          "base_uri": "https://localhost:8080/"
        },
        "id": "nYhDmoUKOgHE",
        "outputId": "fc5c0ea1-6d63-4897-ba3b-eff189b1b733"
      },
      "source": [
        "X_train['tweet']"
      ],
      "execution_count": null,
      "outputs": [
        {
          "data": {
            "text/plain": [
              "313228     get to a show girl do whatcha gotta do what if...\n",
              "253601                     ex boyfriends suck pete the alien\n",
              "1041037                          which one did you like best\n",
              "217422                damn my back is hella hurtting at work\n",
              "495067                    unfortunately my days already over\n",
              "                                 ...                        \n",
              "622215       dont feel well sooooo no rocco for me tonight  \n",
              "174561     starting my nd shift im going to miss like an ...\n",
              "77153      having spent a fair whack of yesterday working...\n",
              "71907                                          is very tired\n",
              "298735     blownleft over chipotle probably how im going ...\n",
              "Name: tweet, Length: 1440000, dtype: object"
            ]
          },
          "execution_count": 21,
          "metadata": {},
          "output_type": "execute_result"
        }
      ]
    },
    {
      "cell_type": "code",
      "metadata": {
        "colab": {
          "base_uri": "https://localhost:8080/"
        },
        "id": "J2yWcxSdOnjJ",
        "outputId": "93c78a84-abee-4d13-acbe-7bb1d3acf96a"
      },
      "source": [
        "X_val['tweet']"
      ],
      "execution_count": null,
      "outputs": [
        {
          "data": {
            "text/plain": [
              "381986                            sluggish saturdayin office\n",
              "456844                          hahah spare me some hw elves\n",
              "1417046    glad i just got something off my chest it feel...\n",
              "1140067        home from workboreddd got to see today missin\n",
              "544028                               fine then lol go see it\n",
              "                                 ...                        \n",
              "556250     oh how i love foggy weather and iphoneipod os ...\n",
              "1334495                                     morning twitters\n",
              "1085711            finally watching my benjamin button movie\n",
              "879066     watching oneman quotbrown eyed girlquot a cape...\n",
              "1031523            okay good knight twitter world hubby time\n",
              "Name: tweet, Length: 160000, dtype: object"
            ]
          },
          "execution_count": 22,
          "metadata": {},
          "output_type": "execute_result"
        }
      ]
    },
    {
      "cell_type": "code",
      "metadata": {
        "colab": {
          "base_uri": "https://localhost:8080/"
        },
        "id": "v2xDovCROqRn",
        "outputId": "f9e95a3c-052c-4f4b-a539-ca9eb1407eae"
      },
      "source": [
        "X_test['tweet']"
      ],
      "execution_count": null,
      "outputs": [
        {
          "data": {
            "text/plain": [
              "0         same folks said daikon paste could treat a cyt...\n",
              "1         while the world has been on the wrong side of ...\n",
              "2         coronavirus sputnikv astrazeneca pfizerbiontec...\n",
              "3         facts are immutable senator even when youre no...\n",
              "4         explain to me again why we need a vaccine wher...\n",
              "                                ...                        \n",
              "202451    rdif sputnikv is already registered in countri...\n",
              "202452    breaking  russiaâs health minister mikhail m...\n",
              "202453     bbmp bengaluru covidvaccine availability for ...\n",
              "202454    argentinaâs ceo on sputnikv authorization ba...\n",
              "202455     bbmp bengaluru covidvaccine availability for ...\n",
              "Name: tweet, Length: 202456, dtype: object"
            ]
          },
          "execution_count": 23,
          "metadata": {},
          "output_type": "execute_result"
        }
      ]
    },
    {
      "cell_type": "markdown",
      "metadata": {
        "id": "0Vaxkhp2OUYy"
      },
      "source": [
        "**Label and Tweet Encoding**"
      ]
    },
    {
      "cell_type": "code",
      "metadata": {
        "id": "aKX6JFoGOS3H"
      },
      "source": [
        "label_encoder = LabelEncoder()\n",
        "y_train = label_encoder.fit_transform(y_train)\n",
        "y_val = label_encoder.fit_transform(y_val)\n",
        "y_test = label_encoder.fit_transform(y_test)"
      ],
      "execution_count": null,
      "outputs": []
    },
    {
      "cell_type": "code",
      "metadata": {
        "id": "oNcBsCoEZAeA"
      },
      "source": [
        "tokenizer = Tokenizer(num_words = vocab_size, oov_token=oov_tok)\n",
        "tokenizer.fit_on_texts(X_train['tweet'])\n",
        "tokenizer.fit_on_texts(X_val['tweet'])\n",
        "tokenizer.fit_on_texts(X_test['tweet'])\n",
        "word_index = tokenizer.word_index\n",
        "\n",
        "train_sequences = tokenizer.texts_to_sequences(X_train['tweet'])\n",
        "train_padded = pad_sequences(train_sequences, maxlen=max_length, padding=padding_type, truncating=trunc_type)\n",
        "\n",
        "val_sequences = tokenizer.texts_to_sequences(X_val['tweet'])\n",
        "val_padded = pad_sequences(val_sequences, maxlen=max_length, padding=padding_type, truncating=trunc_type)\n",
        "\n",
        "test_sequences = tokenizer.texts_to_sequences(X_test['tweet'])\n",
        "test_padded = pad_sequences(test_sequences, maxlen=max_length, padding=padding_type, truncating=trunc_type)"
      ],
      "execution_count": null,
      "outputs": []
    },
    {
      "cell_type": "code",
      "metadata": {
        "id": "EdyRtszXyRI_"
      },
      "source": [
        "# Need this block to get it to work with TensorFlow 2.x\n",
        "training_padded = np.array(train_padded)\n",
        "training_labels = np.array(y_train)\n",
        "\n",
        "val_padded = np.array(val_padded)\n",
        "val_labels = np.array(y_val)\n",
        "\n",
        "test_padded = np.array(test_padded)\n",
        "test_labels = np.array(y_test)"
      ],
      "execution_count": null,
      "outputs": []
    },
    {
      "cell_type": "markdown",
      "metadata": {
        "id": "_55VscVdOjHN"
      },
      "source": [
        "**Model**"
      ]
    },
    {
      "cell_type": "code",
      "metadata": {
        "colab": {
          "base_uri": "https://localhost:8080/"
        },
        "id": "jXLXG-1U1uxH",
        "outputId": "3d7d809c-cd15-4b16-eab4-05a09cd64f3f"
      },
      "source": [
        "model = tf.keras.Sequential([\n",
        "    tf.keras.layers.Embedding(\n",
        "        input_dim=vocab_size,\n",
        "        output_dim=embedding_dim),\n",
        "    tf.keras.layers.Bidirectional(tf.keras.layers.LSTM(embedding_dim)),\n",
        "    tf.keras.layers.Dense(embedding_dim, activation='relu'),\n",
        "    tf.keras.layers.Dense(1, activation='sigmoid')\n",
        "])\n",
        "model.summary()"
      ],
      "execution_count": null,
      "outputs": [
        {
          "name": "stdout",
          "output_type": "stream",
          "text": [
            "Model: \"sequential\"\n",
            "_________________________________________________________________\n",
            " Layer (type)                Output Shape              Param #   \n",
            "=================================================================\n",
            " embedding (Embedding)       (None, None, 16)          800000    \n",
            "                                                                 \n",
            " bidirectional (Bidirectiona  (None, 32)               4224      \n",
            " l)                                                              \n",
            "                                                                 \n",
            " dense (Dense)               (None, 16)                528       \n",
            "                                                                 \n",
            " dense_1 (Dense)             (None, 1)                 17        \n",
            "                                                                 \n",
            "=================================================================\n",
            "Total params: 804,769\n",
            "Trainable params: 804,769\n",
            "Non-trainable params: 0\n",
            "_________________________________________________________________\n"
          ]
        }
      ]
    },
    {
      "cell_type": "code",
      "metadata": {
        "colab": {
          "base_uri": "https://localhost:8080/"
        },
        "id": "TLw_qyKw1wxv",
        "outputId": "6c08befd-f667-4f2c-9df9-ab6a5b6a73c3"
      },
      "source": [
        "# predict on a sample text without padding.\n",
        "\n",
        "predictions = model.predict(np.array([val_sequences[0]]))\n",
        "print(predictions[0])"
      ],
      "execution_count": null,
      "outputs": [
        {
          "name": "stdout",
          "output_type": "stream",
          "text": [
            "[0.49941152]\n"
          ]
        }
      ]
    },
    {
      "cell_type": "code",
      "metadata": {
        "colab": {
          "base_uri": "https://localhost:8080/"
        },
        "id": "9jw3uokinM_m",
        "outputId": "436b5213-2bca-47fb-fe3a-b848ba8f7968"
      },
      "source": [
        "# predict on a sample text with padding\n",
        "\n",
        "predictions = model.predict(np.array([val_padded[0]]))\n",
        "print(predictions[0])"
      ],
      "execution_count": null,
      "outputs": [
        {
          "name": "stdout",
          "output_type": "stream",
          "text": [
            "[0.50117886]\n"
          ]
        }
      ]
    },
    {
      "cell_type": "code",
      "metadata": {
        "id": "Ub_0iGcbnxqg"
      },
      "source": [
        "model.compile(loss='binary_crossentropy', \n",
        "              optimizer='adam', \n",
        "              metrics=['binary_accuracy'])"
      ],
      "execution_count": null,
      "outputs": []
    },
    {
      "cell_type": "markdown",
      "metadata": {
        "id": "9mtibr-EOqmJ"
      },
      "source": [
        "**Execute Model**"
      ]
    },
    {
      "cell_type": "code",
      "metadata": {
        "colab": {
          "base_uri": "https://localhost:8080/"
        },
        "id": "cdBjsIGn1yHO",
        "outputId": "6f1c437f-fe07-4a30-850c-0f8dfce51dff"
      },
      "source": [
        "num_epochs = 5\n",
        "history = model.fit(training_padded, \n",
        "                    training_labels, \n",
        "                    epochs=num_epochs, \n",
        "                    validation_data=(val_padded, val_labels),\n",
        "                    verbose=1)"
      ],
      "execution_count": null,
      "outputs": [
        {
          "output_type": "stream",
          "name": "stdout",
          "text": [
            "Epoch 1/5\n",
            "45000/45000 [==============================] - 2421s 54ms/step - loss: 0.4149 - binary_accuracy: 0.8089 - val_loss: 0.3907 - val_binary_accuracy: 0.8224\n",
            "Epoch 2/5\n",
            "45000/45000 [==============================] - 2348s 52ms/step - loss: 0.3740 - binary_accuracy: 0.8319 - val_loss: 0.3845 - val_binary_accuracy: 0.8254\n",
            "Epoch 3/5\n",
            "45000/45000 [==============================] - 2346s 52ms/step - loss: 0.3564 - binary_accuracy: 0.8418 - val_loss: 0.3839 - val_binary_accuracy: 0.8269\n",
            "Epoch 4/5\n",
            "45000/45000 [==============================] - 2434s 54ms/step - loss: 0.3443 - binary_accuracy: 0.8487 - val_loss: 0.3849 - val_binary_accuracy: 0.8276\n",
            "Epoch 5/5\n",
            "45000/45000 [==============================] - 2405s 53ms/step - loss: 0.3348 - binary_accuracy: 0.8536 - val_loss: 0.3883 - val_binary_accuracy: 0.8261\n"
          ]
        }
      ]
    },
    {
      "cell_type": "code",
      "metadata": {
        "id": "53iGJqHKLUY7",
        "colab": {
          "base_uri": "https://localhost:8080/"
        },
        "outputId": "b0c92512-5274-4a8b-d6a1-7d6f878d911a"
      },
      "source": [
        "test_loss, test_acc = model.evaluate(test_padded, test_labels)\n",
        "\n",
        "print('Test Loss:', test_loss)\n",
        "print('Test Accuracy:', test_acc)\n"
      ],
      "execution_count": null,
      "outputs": [
        {
          "output_type": "stream",
          "name": "stdout",
          "text": [
            "6327/6327 [==============================] - 90s 14ms/step - loss: 0.8680 - binary_accuracy: 0.5316\n",
            "Test Loss: 0.8680432438850403\n",
            "Test Accuracy: 0.5316118001937866\n"
          ]
        }
      ]
    },
    {
      "cell_type": "code",
      "metadata": {
        "id": "knKyBv5tLlLF"
      },
      "source": [
        "plt.figure(figsize=(16, 8))\n",
        "plt.subplot(1, 2, 1)\n",
        "plot_graphs(history, 'binary_accuracy')\n",
        "plt.ylim(None, 1)\n",
        "plt.subplot(1, 2, 2)\n",
        "plot_graphs(history, 'loss')\n",
        "plt.ylim(0, None)"
      ],
      "execution_count": null,
      "outputs": []
    },
    {
      "cell_type": "code",
      "metadata": {
        "id": "H5ujRazjPtM4",
        "colab": {
          "base_uri": "https://localhost:8080/"
        },
        "outputId": "d37b6641-042d-4ae6-cd52-c46498c79897"
      },
      "source": [
        "predictions = model.predict(test_padded)\n",
        "print(predictions)"
      ],
      "execution_count": null,
      "outputs": [
        {
          "output_type": "stream",
          "name": "stdout",
          "text": [
            "[[0.2416096 ]\n",
            " [0.3554325 ]\n",
            " [0.460093  ]\n",
            " ...\n",
            " [0.34999275]\n",
            " [0.917688  ]\n",
            " [0.34999275]]\n"
          ]
        }
      ]
    },
    {
      "cell_type": "code",
      "metadata": {
        "id": "nRfPpt264Z2t"
      },
      "source": [
        "df = pd.DataFrame(predictions, columns=['predictions'])\n",
        "df.to_csv('prediction-RNN.csv', index=False)"
      ],
      "execution_count": null,
      "outputs": []
    },
    {
      "cell_type": "markdown",
      "metadata": {
        "id": "Eb_IWTuEMOAV"
      },
      "source": [
        "**Stack two or more LSTM layers**"
      ]
    },
    {
      "cell_type": "code",
      "metadata": {
        "id": "alPfZ9fjMRQu"
      },
      "source": [
        "#model = tf.keras.Sequential([\n",
        "#    tf.keras.layers.Embedding(vocab_size, 64, mask_zero=True),\n",
        "#    tf.keras.layers.Bidirectional(tf.keras.layers.LSTM(64,  return_sequences=True)),\n",
        "#    tf.keras.layers.Bidirectional(tf.keras.layers.LSTM(32)),\n",
        "#    tf.keras.layers.Dense(64, activation='sigmoid'),\n",
        "#    tf.keras.layers.Dropout(0.5),\n",
        "#    tf.keras.layers.Dense(1)\n",
        "#])"
      ],
      "execution_count": null,
      "outputs": []
    },
    {
      "cell_type": "code",
      "metadata": {
        "id": "sL8odnCOMVoY"
      },
      "source": [
        "#model.compile(loss=tf.keras.losses.BinaryCrossentropy(),\n",
        "#              optimizer=tf.keras.optimizers.Adam(),\n",
        "#              metrics=['binary_accuracy'])"
      ],
      "execution_count": null,
      "outputs": []
    },
    {
      "cell_type": "code",
      "metadata": {
        "id": "CAwFi8BWMYts"
      },
      "source": [
        "#history = model.fit(training_padded, training_labels, \n",
        "#                    epochs=5,\n",
        "#                    validation_data=(test_padded, test_labels),\n",
        "#                    validation_steps=30,\n",
        "#                    verbose=1)"
      ],
      "execution_count": null,
      "outputs": []
    },
    {
      "cell_type": "code",
      "metadata": {
        "id": "Myoxw1tnMjUg"
      },
      "source": [
        "#test_loss, test_acc = model.evaluate(testing_dataset)\n",
        "\n",
        "#print('Test Loss:', test_loss)\n",
        "#print('Test Accuracy:', test_acc)\n"
      ],
      "execution_count": null,
      "outputs": []
    },
    {
      "cell_type": "code",
      "metadata": {
        "id": "I67DEy85Mm59"
      },
      "source": [
        "#plt.figure(figsize=(16, 8))\n",
        "#plt.subplot(1, 2, 1)\n",
        "##plot_graphs(history, 'binary_accuracy')\n",
        "#plt.ylim(None, 1)\n",
        "#plt.subplot(1, 2, 2)\n",
        "#plot_graphs(history, 'loss')\n",
        "#plt.ylim(0, None)"
      ],
      "execution_count": null,
      "outputs": []
    },
    {
      "cell_type": "code",
      "metadata": {
        "id": "O5A8w2UVm7ly"
      },
      "source": [
        "#predictions = model.predict(test_padded)\n",
        "#print(predictions)"
      ],
      "execution_count": null,
      "outputs": []
    },
    {
      "cell_type": "code",
      "metadata": {
        "id": "TcGcy-3mm-qg"
      },
      "source": [
        "#df = pd.DataFrame(predictions, columns=['predictions'])\n",
        "#df.to_csv('prediction-RNN-2layer.csv', index=False)"
      ],
      "execution_count": null,
      "outputs": []
    }
  ]
}